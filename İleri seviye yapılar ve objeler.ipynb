{
 "cells": [
  {
   "cell_type": "markdown",
   "id": "2f4a268a",
   "metadata": {},
   "source": [
    "# İleri seviye sayılar"
   ]
  },
  {
   "cell_type": "code",
   "execution_count": 1,
   "id": "46bd29e3",
   "metadata": {},
   "outputs": [
    {
     "data": {
      "text/plain": [
       "'0b100000'"
      ]
     },
     "execution_count": 1,
     "metadata": {},
     "output_type": "execute_result"
    }
   ],
   "source": [
    "bin(32) #sayıyı binary yazdırdı"
   ]
  },
  {
   "cell_type": "code",
   "execution_count": 3,
   "id": "ba613181",
   "metadata": {},
   "outputs": [
    {
     "data": {
      "text/plain": [
       "'0x221'"
      ]
     },
     "execution_count": 3,
     "metadata": {},
     "output_type": "execute_result"
    }
   ],
   "source": [
    "hex(545) #sayıyı hexadecimal halde yazar"
   ]
  },
  {
   "cell_type": "code",
   "execution_count": 4,
   "id": "a9aacc9d",
   "metadata": {},
   "outputs": [
    {
     "data": {
      "text/plain": [
       "32"
      ]
     },
     "execution_count": 4,
     "metadata": {},
     "output_type": "execute_result"
    }
   ],
   "source": [
    "abs(-32) #sayının mutlak değerini verir"
   ]
  },
  {
   "cell_type": "code",
   "execution_count": 5,
   "id": "b82332eb",
   "metadata": {},
   "outputs": [
    {
     "data": {
      "text/plain": [
       "5"
      ]
     },
     "execution_count": 5,
     "metadata": {},
     "output_type": "execute_result"
    }
   ],
   "source": [
    "round(4.8) #yuvarlama yapar"
   ]
  },
  {
   "cell_type": "code",
   "execution_count": 6,
   "id": "e5bbc15c",
   "metadata": {},
   "outputs": [
    {
     "data": {
      "text/plain": [
       "3"
      ]
     },
     "execution_count": 6,
     "metadata": {},
     "output_type": "execute_result"
    }
   ],
   "source": [
    "round(3.1)"
   ]
  },
  {
   "cell_type": "code",
   "execution_count": 7,
   "id": "3f90693a",
   "metadata": {},
   "outputs": [
    {
     "data": {
      "text/plain": [
       "7"
      ]
     },
     "execution_count": 7,
     "metadata": {},
     "output_type": "execute_result"
    }
   ],
   "source": [
    "max(4,7)"
   ]
  },
  {
   "cell_type": "code",
   "execution_count": 8,
   "id": "e418a8c3",
   "metadata": {},
   "outputs": [
    {
     "data": {
      "text/plain": [
       "2"
      ]
     },
     "execution_count": 8,
     "metadata": {},
     "output_type": "execute_result"
    }
   ],
   "source": [
    "min(3,2,6,8,9)"
   ]
  },
  {
   "cell_type": "code",
   "execution_count": 9,
   "id": "137c4060",
   "metadata": {},
   "outputs": [
    {
     "data": {
      "text/plain": [
       "26"
      ]
     },
     "execution_count": 9,
     "metadata": {},
     "output_type": "execute_result"
    }
   ],
   "source": [
    "sum([1,3,5,6,7,4])"
   ]
  },
  {
   "cell_type": "code",
   "execution_count": 11,
   "id": "803a3fbc",
   "metadata": {},
   "outputs": [
    {
     "data": {
      "text/plain": [
       "16"
      ]
     },
     "execution_count": 11,
     "metadata": {},
     "output_type": "execute_result"
    }
   ],
   "source": [
    "pow(2,4) #üssü"
   ]
  },
  {
   "cell_type": "markdown",
   "id": "9aae76a0",
   "metadata": {},
   "source": [
    "# İleri seviye stringler"
   ]
  },
  {
   "cell_type": "code",
   "execution_count": 12,
   "id": "74ae1299",
   "metadata": {},
   "outputs": [
    {
     "data": {
      "text/plain": [
       "'PYTHON'"
      ]
     },
     "execution_count": 12,
     "metadata": {},
     "output_type": "execute_result"
    }
   ],
   "source": [
    "\"python\".upper()"
   ]
  },
  {
   "cell_type": "code",
   "execution_count": 13,
   "id": "1967cb68",
   "metadata": {},
   "outputs": [
    {
     "data": {
      "text/plain": [
       "'dcdij'"
      ]
     },
     "execution_count": 13,
     "metadata": {},
     "output_type": "execute_result"
    }
   ],
   "source": [
    "\"dcDIJ\".lower()"
   ]
  },
  {
   "cell_type": "code",
   "execution_count": 14,
   "id": "6b5c6fbd",
   "metadata": {},
   "outputs": [
    {
     "data": {
      "text/plain": [
       "'nisonur coskun'"
      ]
     },
     "execution_count": 14,
     "metadata": {},
     "output_type": "execute_result"
    }
   ],
   "source": [
    "\"nisanur coskun\".replace(\"a\",\"o\")"
   ]
  },
  {
   "cell_type": "code",
   "execution_count": 15,
   "id": "f56f4a43",
   "metadata": {},
   "outputs": [
    {
     "data": {
      "text/plain": [
       "'nisanur_coskun'"
      ]
     },
     "execution_count": 15,
     "metadata": {},
     "output_type": "execute_result"
    }
   ],
   "source": [
    "\"nisanur coskun\".replace(\" \",\"_\")"
   ]
  },
  {
   "cell_type": "code",
   "execution_count": 16,
   "id": "9f1e4186",
   "metadata": {},
   "outputs": [
    {
     "data": {
      "text/plain": [
       "'aysenur coskun'"
      ]
     },
     "execution_count": 16,
     "metadata": {},
     "output_type": "execute_result"
    }
   ],
   "source": [
    "\"nisanur coskun\".replace(\"nisanur\",\"aysenur\")"
   ]
  },
  {
   "cell_type": "code",
   "execution_count": 18,
   "id": "f48d21f9",
   "metadata": {},
   "outputs": [
    {
     "data": {
      "text/plain": [
       "True"
      ]
     },
     "execution_count": 18,
     "metadata": {},
     "output_type": "execute_result"
    }
   ],
   "source": [
    "\"nisa\".startswith(\"n\")"
   ]
  },
  {
   "cell_type": "code",
   "execution_count": 19,
   "id": "eb787019",
   "metadata": {},
   "outputs": [
    {
     "data": {
      "text/plain": [
       "True"
      ]
     },
     "execution_count": 19,
     "metadata": {},
     "output_type": "execute_result"
    }
   ],
   "source": [
    "\"nisa\".startswith(\"ni\")"
   ]
  },
  {
   "cell_type": "code",
   "execution_count": 20,
   "id": "ab63d5a1",
   "metadata": {},
   "outputs": [
    {
     "data": {
      "text/plain": [
       "False"
      ]
     },
     "execution_count": 20,
     "metadata": {},
     "output_type": "execute_result"
    }
   ],
   "source": [
    "\"nisa\".startswith(\"e\")"
   ]
  },
  {
   "cell_type": "code",
   "execution_count": 21,
   "id": "5cff02ac",
   "metadata": {},
   "outputs": [
    {
     "data": {
      "text/plain": [
       "False"
      ]
     },
     "execution_count": 21,
     "metadata": {},
     "output_type": "execute_result"
    }
   ],
   "source": [
    "\"nisa\".endswith(\"ni\")"
   ]
  },
  {
   "cell_type": "code",
   "execution_count": 22,
   "id": "a9cb1d42",
   "metadata": {},
   "outputs": [
    {
     "data": {
      "text/plain": [
       "True"
      ]
     },
     "execution_count": 22,
     "metadata": {},
     "output_type": "execute_result"
    }
   ],
   "source": [
    "\"nisa\".endswith(\"sa\")"
   ]
  },
  {
   "cell_type": "code",
   "execution_count": 23,
   "id": "9245f462",
   "metadata": {},
   "outputs": [
    {
     "data": {
      "text/plain": [
       "True"
      ]
     },
     "execution_count": 23,
     "metadata": {},
     "output_type": "execute_result"
    }
   ],
   "source": [
    "\"nisa\".endswith(\"a\")"
   ]
  },
  {
   "cell_type": "code",
   "execution_count": 26,
   "id": "7eed829d",
   "metadata": {},
   "outputs": [
    {
     "data": {
      "text/plain": [
       "['nisanur', 'coskun', 'engineer']"
      ]
     },
     "execution_count": 26,
     "metadata": {},
     "output_type": "execute_result"
    }
   ],
   "source": [
    "\"nisanur coskun engineer\".split(\" \")"
   ]
  },
  {
   "cell_type": "code",
   "execution_count": 28,
   "id": "54a99300",
   "metadata": {},
   "outputs": [
    {
     "data": {
      "text/plain": [
       "3"
      ]
     },
     "execution_count": 28,
     "metadata": {},
     "output_type": "execute_result"
    }
   ],
   "source": [
    "\"nisanurcoskun\".count(\"n\")"
   ]
  },
  {
   "cell_type": "code",
   "execution_count": 29,
   "id": "8683d040",
   "metadata": {},
   "outputs": [
    {
     "data": {
      "text/plain": [
       "0"
      ]
     },
     "execution_count": 29,
     "metadata": {},
     "output_type": "execute_result"
    }
   ],
   "source": [
    "\"nisanurcoskun\".find(\"n\")"
   ]
  },
  {
   "cell_type": "code",
   "execution_count": 31,
   "id": "2c2c6366",
   "metadata": {},
   "outputs": [
    {
     "data": {
      "text/plain": [
       "-1"
      ]
     },
     "execution_count": 31,
     "metadata": {},
     "output_type": "execute_result"
    }
   ],
   "source": [
    "\"nisanurcoskun\".find(\"v\")"
   ]
  },
  {
   "cell_type": "code",
   "execution_count": null,
   "id": "9d308e34",
   "metadata": {},
   "outputs": [],
   "source": []
  }
 ],
 "metadata": {
  "kernelspec": {
   "display_name": "Python 3 (ipykernel)",
   "language": "python",
   "name": "python3"
  },
  "language_info": {
   "codemirror_mode": {
    "name": "ipython",
    "version": 3
   },
   "file_extension": ".py",
   "mimetype": "text/x-python",
   "name": "python",
   "nbconvert_exporter": "python",
   "pygments_lexer": "ipython3",
   "version": "3.9.7"
  }
 },
 "nbformat": 4,
 "nbformat_minor": 5
}
