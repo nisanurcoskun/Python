{
 "cells": [
  {
   "cell_type": "markdown",
   "id": "af487caa",
   "metadata": {},
   "source": [
    "## Map()\n",
    "\n",
    "Bu fonksiyon gönderilen fonksiyonu her bireleman üzerinde uygulayıp sonuç olarak bir map objesi döner.\n",
    "\n",
    "    map(fonksiyon,veri)\n",
    "    "
   ]
  },
  {
   "cell_type": "code",
   "execution_count": 1,
   "id": "7105433a",
   "metadata": {},
   "outputs": [],
   "source": [
    "def triple(x):\n",
    "    return x*3"
   ]
  },
  {
   "cell_type": "code",
   "execution_count": 3,
   "id": "97b6ab95",
   "metadata": {},
   "outputs": [
    {
     "data": {
      "text/plain": [
       "<map at 0x1fed1997970>"
      ]
     },
     "execution_count": 3,
     "metadata": {},
     "output_type": "execute_result"
    }
   ],
   "source": [
    "map(triple,[1,2,3,4,5])"
   ]
  },
  {
   "cell_type": "code",
   "execution_count": 4,
   "id": "0b8db114",
   "metadata": {},
   "outputs": [
    {
     "data": {
      "text/plain": [
       "[3, 6, 9, 12, 15]"
      ]
     },
     "execution_count": 4,
     "metadata": {},
     "output_type": "execute_result"
    }
   ],
   "source": [
    "list(map(triple,[1,2,3,4,5]))"
   ]
  },
  {
   "cell_type": "code",
   "execution_count": 5,
   "id": "2e1ada1b",
   "metadata": {},
   "outputs": [],
   "source": [
    "liste1 = [1,2,3,4]\n",
    "liste2 = [5,6,7,8]\n",
    "liste3 = [9,10,11,12,13]"
   ]
  },
  {
   "cell_type": "code",
   "execution_count": 6,
   "id": "cd5b1ffb",
   "metadata": {},
   "outputs": [
    {
     "data": {
      "text/plain": [
       "[45, 120, 231, 384]"
      ]
     },
     "execution_count": 6,
     "metadata": {},
     "output_type": "execute_result"
    }
   ],
   "source": [
    "list(map(lambda x,y,z : x * y * z , liste1,liste2,liste3))"
   ]
  },
  {
   "cell_type": "markdown",
   "id": "35ea386a",
   "metadata": {},
   "source": [
    "Yukarıda x değişkeni liste1, y değişkeni liste2, z değişkeni liste3 oldu ve sonuçta elemanların çarpımı döndü."
   ]
  },
  {
   "cell_type": "markdown",
   "id": "7322332c",
   "metadata": {},
   "source": [
    "## Reduce()\n",
    "\n",
    "fonksiyonu en baştan başlayıp ilk 2 elemana uygular, çıkan sonucu 3. elemana uygular.\n",
    "\n",
    "    reduce(function, iterasyon yapılabilen veritipi(liste vb.))\n",
    "    "
   ]
  },
  {
   "cell_type": "code",
   "execution_count": 7,
   "id": "3c096111",
   "metadata": {},
   "outputs": [],
   "source": [
    "from functools import reduce"
   ]
  },
  {
   "cell_type": "code",
   "execution_count": 8,
   "id": "7193a7bc",
   "metadata": {},
   "outputs": [],
   "source": [
    "def toplama(x,y):\n",
    "    return x+y"
   ]
  },
  {
   "cell_type": "code",
   "execution_count": 9,
   "id": "19fb1660",
   "metadata": {},
   "outputs": [
    {
     "data": {
      "text/plain": [
       "45"
      ]
     },
     "execution_count": 9,
     "metadata": {},
     "output_type": "execute_result"
    }
   ],
   "source": [
    "reduce(toplama,[1,4,5,33,2])"
   ]
  },
  {
   "cell_type": "code",
   "execution_count": 11,
   "id": "390e2b32",
   "metadata": {},
   "outputs": [
    {
     "data": {
      "text/plain": [
       "40"
      ]
     },
     "execution_count": 11,
     "metadata": {},
     "output_type": "execute_result"
    }
   ],
   "source": [
    "reduce(lambda x,y :x*y,[1,2,4,5])"
   ]
  },
  {
   "cell_type": "code",
   "execution_count": 12,
   "id": "c1f0e3f2",
   "metadata": {},
   "outputs": [],
   "source": [
    "def maksimum(x,y):\n",
    "    \n",
    "    if(x>y):\n",
    "        return x\n",
    "    else:\n",
    "        return y"
   ]
  },
  {
   "cell_type": "code",
   "execution_count": 13,
   "id": "6a7771ec",
   "metadata": {},
   "outputs": [
    {
     "data": {
      "text/plain": [
       "5"
      ]
     },
     "execution_count": 13,
     "metadata": {},
     "output_type": "execute_result"
    }
   ],
   "source": [
    "maksimum(5,3)"
   ]
  },
  {
   "cell_type": "code",
   "execution_count": 14,
   "id": "812f1ad9",
   "metadata": {},
   "outputs": [
    {
     "data": {
      "text/plain": [
       "5657"
      ]
     },
     "execution_count": 14,
     "metadata": {},
     "output_type": "execute_result"
    }
   ],
   "source": [
    "reduce(maksimum,[432,4,3,2,5657])"
   ]
  },
  {
   "cell_type": "markdown",
   "id": "f8ee201e",
   "metadata": {},
   "source": [
    "## filter()\n",
    "\n",
    "filter() fonksiyonu birinci parametre olarak mutlaka mantıksal değer dönen (True , False) bir fonksiyon alır ve liste gibi veritiplerinin her bir elemanına bu fonksiyonunu uygular. filter sadece True sonuç çıkaran değerleri alarak bir tane filter objesi döner.\n",
    "\n",
    "    filter(fonksiyon,iterasyon yapılabilen bir veritipi(liste vb.))\n",
    "    "
   ]
  },
  {
   "cell_type": "code",
   "execution_count": 15,
   "id": "0b5111ae",
   "metadata": {},
   "outputs": [
    {
     "data": {
      "text/plain": [
       "[2, 4, 6, 8, 10]"
      ]
     },
     "execution_count": 15,
     "metadata": {},
     "output_type": "execute_result"
    }
   ],
   "source": [
    "list(filter(lambda x : x % 2 == 0, [1,2,3,4,5,6,7,8,9,10]))"
   ]
  },
  {
   "cell_type": "markdown",
   "id": "440d8e72",
   "metadata": {},
   "source": [
    "## zip()\n",
    "\n",
    "zip fonksiyonu listelerin elemanları sırasıyla demet şeklinde gruplayarak bir tane liste oluşturuyor.\n"
   ]
  },
  {
   "cell_type": "code",
   "execution_count": 16,
   "id": "a2b279a6",
   "metadata": {},
   "outputs": [],
   "source": [
    "liste1 = [1,2,3,4]\n",
    "liste2 = [5,6,7,8]\n",
    "liste3 = [\"Python\",\"Php\",\"Java\",\"Javascript\",\"C\"]"
   ]
  },
  {
   "cell_type": "code",
   "execution_count": 17,
   "id": "37724adc",
   "metadata": {},
   "outputs": [
    {
     "data": {
      "text/plain": [
       "[(1, 5, 'Python'), (2, 6, 'Php'), (3, 7, 'Java'), (4, 8, 'Javascript')]"
      ]
     },
     "execution_count": 17,
     "metadata": {},
     "output_type": "execute_result"
    }
   ],
   "source": [
    "list(zip(liste1,liste2,liste3))"
   ]
  },
  {
   "cell_type": "code",
   "execution_count": 18,
   "id": "3f21b6bd",
   "metadata": {},
   "outputs": [
    {
     "name": "stdout",
     "output_type": "stream",
     "text": [
      "i: 1 j: Python\n",
      "i: 2 j: Php\n",
      "i: 3 j: Java\n",
      "i: 4 j: Javascript\n"
     ]
    }
   ],
   "source": [
    "## Aynı anda iki liste üzerinde gezinmek\n",
    "liste1 = [1,2,3,4]\n",
    "liste2 = [\"Python\",\"Php\",\"Java\",\"Javascript\"]\n",
    "\n",
    "for i,j in zip(liste1,liste2):\n",
    "    print(\"i:\",i,\"j:\",j)\n"
   ]
  },
  {
   "cell_type": "code",
   "execution_count": 19,
   "id": "84b7e69f",
   "metadata": {},
   "outputs": [],
   "source": [
    "# Sözlükleri zipleyelim.\n",
    "sözlük1 = {\"Elma\":1,\"Armut\":2,\"Kiraz\":3}\n",
    "sözlük2 = {\"Sıfır\":0,\"Bir\":1,\"İki\":2}"
   ]
  },
  {
   "cell_type": "code",
   "execution_count": 20,
   "id": "7baab2f9",
   "metadata": {},
   "outputs": [
    {
     "data": {
      "text/plain": [
       "[('Elma', 'Sıfır'), ('Armut', 'Bir'), ('Kiraz', 'İki')]"
      ]
     },
     "execution_count": 20,
     "metadata": {},
     "output_type": "execute_result"
    }
   ],
   "source": [
    "list(zip(sözlük1,sözlük2)) # Anahtarlar eşleşti."
   ]
  },
  {
   "cell_type": "markdown",
   "id": "3a213717",
   "metadata": {},
   "source": [
    "## Enumerate()\n",
    "\n",
    "Numaralandırmaya yarar."
   ]
  },
  {
   "cell_type": "code",
   "execution_count": 21,
   "id": "5c8d8ae6",
   "metadata": {},
   "outputs": [
    {
     "data": {
      "text/plain": [
       "[(0, 'Elma'), (1, 'Armut'), (2, 'Muz'), (3, 'Kiraz')]"
      ]
     },
     "execution_count": 21,
     "metadata": {},
     "output_type": "execute_result"
    }
   ],
   "source": [
    "liste = [\"Elma\",\"Armut\",\"Muz\",\"Kiraz\"]\n",
    "list(enumerate(liste))"
   ]
  },
  {
   "cell_type": "code",
   "execution_count": 22,
   "id": "d9c1ada6",
   "metadata": {},
   "outputs": [
    {
     "name": "stdout",
     "output_type": "stream",
     "text": [
      "Eleman:  a\n",
      "Eleman:  c\n",
      "Eleman:  e\n",
      "Eleman:  g\n"
     ]
    }
   ],
   "source": [
    "# bir listenin çift indekslerini(0,2,4) enumerate kullanarak yazdırabiliriz\n",
    "liste = [\"a\",\"b\",\"c\",\"d\",\"e\",\"f\",\"g\"]\n",
    "\n",
    "for index,eleman in enumerate(liste):\n",
    "    if (index % 2 == 0):\n",
    "        print(\"Eleman: \",eleman)"
   ]
  },
  {
   "cell_type": "markdown",
   "id": "1d6bf3a9",
   "metadata": {},
   "source": [
    "## All() and Any()\n",
    "\n",
    "all() fonksiyonu bütün değerler True ise True, en az bir değer False ise False sonuç döndürür.\n",
    "\n",
    "any() fonksiyonu bütün değerler False ise False, en az bir değer True ise True sonuç döndürür."
   ]
  },
  {
   "cell_type": "code",
   "execution_count": 23,
   "id": "6c1e0bac",
   "metadata": {},
   "outputs": [
    {
     "data": {
      "text/plain": [
       "False"
      ]
     },
     "execution_count": 23,
     "metadata": {},
     "output_type": "execute_result"
    }
   ],
   "source": [
    "liste = [True,False,True,False,True]\n",
    "all(liste)"
   ]
  },
  {
   "cell_type": "code",
   "execution_count": 24,
   "id": "6895c719",
   "metadata": {},
   "outputs": [
    {
     "data": {
      "text/plain": [
       "True"
      ]
     },
     "execution_count": 24,
     "metadata": {},
     "output_type": "execute_result"
    }
   ],
   "source": [
    "liste = [True,False,True,False,True]\n",
    "any(liste)"
   ]
  },
  {
   "cell_type": "code",
   "execution_count": 25,
   "id": "2c09f6e8",
   "metadata": {},
   "outputs": [],
   "source": [
    "liste= [(3,4),(10,3),(5,6),(1,9)]"
   ]
  },
  {
   "cell_type": "code",
   "execution_count": 30,
   "id": "df14821c",
   "metadata": {},
   "outputs": [],
   "source": [
    "def alan(demet):\n",
    "    return demet[0]*demet[1]"
   ]
  },
  {
   "cell_type": "code",
   "execution_count": 31,
   "id": "4d564fa4",
   "metadata": {},
   "outputs": [
    {
     "data": {
      "text/plain": [
       "<map at 0x1fed19a1820>"
      ]
     },
     "execution_count": 31,
     "metadata": {},
     "output_type": "execute_result"
    }
   ],
   "source": [
    "map(alan,liste)"
   ]
  },
  {
   "cell_type": "code",
   "execution_count": 32,
   "id": "dbfbf74d",
   "metadata": {},
   "outputs": [
    {
     "data": {
      "text/plain": [
       "[12, 30, 30, 9]"
      ]
     },
     "execution_count": 32,
     "metadata": {},
     "output_type": "execute_result"
    }
   ],
   "source": [
    "list(map(alan,liste))"
   ]
  },
  {
   "cell_type": "code",
   "execution_count": null,
   "id": "3013af70",
   "metadata": {},
   "outputs": [],
   "source": []
  }
 ],
 "metadata": {
  "kernelspec": {
   "display_name": "Python 3 (ipykernel)",
   "language": "python",
   "name": "python3"
  },
  "language_info": {
   "codemirror_mode": {
    "name": "ipython",
    "version": 3
   },
   "file_extension": ".py",
   "mimetype": "text/x-python",
   "name": "python",
   "nbconvert_exporter": "python",
   "pygments_lexer": "ipython3",
   "version": "3.9.7"
  }
 },
 "nbformat": 4,
 "nbformat_minor": 5
}
