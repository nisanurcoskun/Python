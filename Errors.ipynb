{
 "cells": [
  {
   "cell_type": "markdown",
   "id": "daade114",
   "metadata": {},
   "source": [
    "Hata ayıklamak için try, except yapısı kullanılabilir. Try içine denemek istediğimiz kodu, except içine de hatanın adını yazarız. exceptin içi boş olduğunda pythondaki tüm hatalar için arama yapılmış olur.\n",
    "\n",
    "Bir de finally bloğu var bunun içine de mutlaka çalışması gereken kodlar yazılır."
   ]
  },
  {
   "cell_type": "code",
   "execution_count": 1,
   "id": "4437a6b0",
   "metadata": {},
   "outputs": [
    {
     "name": "stdout",
     "output_type": "stream",
     "text": [
      "bir hata olustu\n"
     ]
    }
   ],
   "source": [
    "try:\n",
    "    a=int(\"asdfsdg234\")\n",
    "    print(\"program burada\")\n",
    "except:\n",
    "    print(\"bir hata olustu\")"
   ]
  },
  {
   "cell_type": "code",
   "execution_count": 2,
   "id": "b2524409",
   "metadata": {},
   "outputs": [
    {
     "ename": "ValueError",
     "evalue": "invalid literal for int() with base 10: 'asdfsdg234'",
     "output_type": "error",
     "traceback": [
      "\u001b[1;31m---------------------------------------------------------------------------\u001b[0m",
      "\u001b[1;31mValueError\u001b[0m                                Traceback (most recent call last)",
      "\u001b[1;32m~\\AppData\\Local\\Temp/ipykernel_44544/3321604161.py\u001b[0m in \u001b[0;36m<module>\u001b[1;34m\u001b[0m\n\u001b[1;32m----> 1\u001b[1;33m \u001b[0ma\u001b[0m\u001b[1;33m=\u001b[0m\u001b[0mint\u001b[0m\u001b[1;33m(\u001b[0m\u001b[1;34m\"asdfsdg234\"\u001b[0m\u001b[1;33m)\u001b[0m\u001b[1;33m\u001b[0m\u001b[1;33m\u001b[0m\u001b[0m\n\u001b[0m",
      "\u001b[1;31mValueError\u001b[0m: invalid literal for int() with base 10: 'asdfsdg234'"
     ]
    }
   ],
   "source": [
    "    a=int(\"asdfsdg234\")"
   ]
  },
  {
   "cell_type": "code",
   "execution_count": 3,
   "id": "153a6e01",
   "metadata": {},
   "outputs": [
    {
     "name": "stdout",
     "output_type": "stream",
     "text": [
      "bir değer hatası olustu\n"
     ]
    }
   ],
   "source": [
    "try:\n",
    "    a=int(\"asdfsdg234\")\n",
    "    print(\"program burada\")\n",
    "except ValueError:\n",
    "    print(\"bir değer hatası olustu\")"
   ]
  },
  {
   "cell_type": "code",
   "execution_count": 4,
   "id": "62a8426b",
   "metadata": {},
   "outputs": [
    {
     "ename": "ZeroDivisionError",
     "evalue": "division by zero",
     "output_type": "error",
     "traceback": [
      "\u001b[1;31m---------------------------------------------------------------------------\u001b[0m",
      "\u001b[1;31mZeroDivisionError\u001b[0m                         Traceback (most recent call last)",
      "\u001b[1;32m~\\AppData\\Local\\Temp/ipykernel_44544/683720550.py\u001b[0m in \u001b[0;36m<module>\u001b[1;34m\u001b[0m\n\u001b[1;32m----> 1\u001b[1;33m \u001b[0mprint\u001b[0m\u001b[1;33m(\u001b[0m\u001b[1;36m2\u001b[0m\u001b[1;33m/\u001b[0m\u001b[1;36m0\u001b[0m\u001b[1;33m)\u001b[0m\u001b[1;33m\u001b[0m\u001b[1;33m\u001b[0m\u001b[0m\n\u001b[0m",
      "\u001b[1;31mZeroDivisionError\u001b[0m: division by zero"
     ]
    }
   ],
   "source": [
    "print(2/0)"
   ]
  },
  {
   "cell_type": "code",
   "execution_count": 7,
   "id": "d9a86e09",
   "metadata": {},
   "outputs": [
    {
     "name": "stdout",
     "output_type": "stream",
     "text": [
      "sayi1: efwa\n",
      "lütfen sayıyı doğru girin\n",
      "bloklar sona erdi\n"
     ]
    }
   ],
   "source": [
    "try:\n",
    "    a=int(input(\"sayi1: \"))\n",
    "    b=int(input(\"sayi2: \"))\n",
    "    print(a/b)\n",
    "except ValueError:\n",
    "    print(\"lütfen sayıyı doğru girin\")\n",
    "except ZeroDivisionError:\n",
    "    print(\"bir sayıyı 0a bölemezsiniz\")\n",
    "print(\"bloklar sona erdi\")"
   ]
  },
  {
   "cell_type": "code",
   "execution_count": 8,
   "id": "b16d4d95",
   "metadata": {},
   "outputs": [
    {
     "name": "stdout",
     "output_type": "stream",
     "text": [
      "sayi1: 3\n",
      "sayi2: 0\n",
      "bir sayıyı 0a bölemezsiniz\n",
      "bloklar sona erdi\n"
     ]
    }
   ],
   "source": [
    "try:\n",
    "    a=int(input(\"sayi1: \"))\n",
    "    b=int(input(\"sayi2: \"))\n",
    "    print(a/b)\n",
    "except ValueError:\n",
    "    print(\"lütfen sayıyı doğru girin\")\n",
    "except ZeroDivisionError:\n",
    "    print(\"bir sayıyı 0a bölemezsiniz\")\n",
    "print(\"bloklar sona erdi\")"
   ]
  },
  {
   "cell_type": "code",
   "execution_count": 9,
   "id": "63f7294d",
   "metadata": {},
   "outputs": [
    {
     "name": "stdout",
     "output_type": "stream",
     "text": [
      "sayi1: 2\n",
      "sayi2: 5\n",
      "0.4\n",
      "bloklar sona erdi\n"
     ]
    }
   ],
   "source": [
    "try:\n",
    "    a=int(input(\"sayi1: \"))\n",
    "    b=int(input(\"sayi2: \"))\n",
    "    print(a/b)\n",
    "except ValueError:\n",
    "    print(\"lütfen sayıyı doğru girin\")\n",
    "except ZeroDivisionError:\n",
    "    print(\"bir sayıyı 0a bölemezsiniz\")\n",
    "print(\"bloklar sona erdi\")"
   ]
  },
  {
   "cell_type": "code",
   "execution_count": 11,
   "id": "71dd471a",
   "metadata": {},
   "outputs": [
    {
     "name": "stdout",
     "output_type": "stream",
     "text": [
      "sayi1: d\n",
      "zero division ya da value error hatası\n"
     ]
    }
   ],
   "source": [
    "try:\n",
    "    a=int(input(\"sayi1: \"))\n",
    "    b=int(input(\"sayi2: \"))\n",
    "    print(a/b)\n",
    "except (ValueError,ZeroDivisionError):\n",
    "    print(\"zero division ya da value error hatası\")\n"
   ]
  },
  {
   "cell_type": "markdown",
   "id": "831b6776",
   "metadata": {},
   "source": [
    "# Kendi fonksiyonlarımız için hata oluşturmak\n",
    "\n",
    "    raise HataAdı(\"HataMesajı\")"
   ]
  },
  {
   "cell_type": "code",
   "execution_count": 25,
   "id": "f78265ee",
   "metadata": {},
   "outputs": [],
   "source": [
    "def terscevir(s):\n",
    "    if(type(s) != str):\n",
    "        raise ValueError(\"Lütfen string girin\")\n",
    "    else:\n",
    "        return s[::-1]"
   ]
  },
  {
   "cell_type": "code",
   "execution_count": 26,
   "id": "153ec654",
   "metadata": {},
   "outputs": [
    {
     "data": {
      "text/plain": [
       "'asin'"
      ]
     },
     "execution_count": 26,
     "metadata": {},
     "output_type": "execute_result"
    }
   ],
   "source": [
    "terscevir(\"nisa\")"
   ]
  },
  {
   "cell_type": "code",
   "execution_count": 27,
   "id": "d718a3c7",
   "metadata": {},
   "outputs": [
    {
     "ename": "ValueError",
     "evalue": "Lütfen string girin",
     "output_type": "error",
     "traceback": [
      "\u001b[1;31m---------------------------------------------------------------------------\u001b[0m",
      "\u001b[1;31mValueError\u001b[0m                                Traceback (most recent call last)",
      "\u001b[1;32m~\\AppData\\Local\\Temp/ipykernel_44544/2315137881.py\u001b[0m in \u001b[0;36m<module>\u001b[1;34m\u001b[0m\n\u001b[1;32m----> 1\u001b[1;33m \u001b[0mterscevir\u001b[0m\u001b[1;33m(\u001b[0m\u001b[1;36m44\u001b[0m\u001b[1;33m)\u001b[0m\u001b[1;33m\u001b[0m\u001b[1;33m\u001b[0m\u001b[0m\n\u001b[0m",
      "\u001b[1;32m~\\AppData\\Local\\Temp/ipykernel_44544/1774093347.py\u001b[0m in \u001b[0;36mterscevir\u001b[1;34m(s)\u001b[0m\n\u001b[0;32m      1\u001b[0m \u001b[1;32mdef\u001b[0m \u001b[0mterscevir\u001b[0m\u001b[1;33m(\u001b[0m\u001b[0ms\u001b[0m\u001b[1;33m)\u001b[0m\u001b[1;33m:\u001b[0m\u001b[1;33m\u001b[0m\u001b[1;33m\u001b[0m\u001b[0m\n\u001b[0;32m      2\u001b[0m     \u001b[1;32mif\u001b[0m\u001b[1;33m(\u001b[0m\u001b[0mtype\u001b[0m\u001b[1;33m(\u001b[0m\u001b[0ms\u001b[0m\u001b[1;33m)\u001b[0m \u001b[1;33m!=\u001b[0m \u001b[0mstr\u001b[0m\u001b[1;33m)\u001b[0m\u001b[1;33m:\u001b[0m\u001b[1;33m\u001b[0m\u001b[1;33m\u001b[0m\u001b[0m\n\u001b[1;32m----> 3\u001b[1;33m         \u001b[1;32mraise\u001b[0m \u001b[0mValueError\u001b[0m\u001b[1;33m(\u001b[0m\u001b[1;34m\"Lütfen string girin\"\u001b[0m\u001b[1;33m)\u001b[0m\u001b[1;33m\u001b[0m\u001b[1;33m\u001b[0m\u001b[0m\n\u001b[0m\u001b[0;32m      4\u001b[0m     \u001b[1;32melse\u001b[0m\u001b[1;33m:\u001b[0m\u001b[1;33m\u001b[0m\u001b[1;33m\u001b[0m\u001b[0m\n\u001b[0;32m      5\u001b[0m         \u001b[1;32mreturn\u001b[0m \u001b[0ms\u001b[0m\u001b[1;33m[\u001b[0m\u001b[1;33m:\u001b[0m\u001b[1;33m:\u001b[0m\u001b[1;33m-\u001b[0m\u001b[1;36m1\u001b[0m\u001b[1;33m]\u001b[0m\u001b[1;33m\u001b[0m\u001b[1;33m\u001b[0m\u001b[0m\n",
      "\u001b[1;31mValueError\u001b[0m: Lütfen string girin"
     ]
    }
   ],
   "source": [
    "terscevir(44)"
   ]
  },
  {
   "cell_type": "code",
   "execution_count": 28,
   "id": "8d63c70c",
   "metadata": {},
   "outputs": [
    {
     "name": "stdout",
     "output_type": "stream",
     "text": [
      "345\n",
      "14\n"
     ]
    }
   ],
   "source": [
    "liste = [\"345\",\"sadas\",\"324a\",\"14\",\"kemal\"]\n",
    "\n",
    "for eleman in liste:\n",
    "    \n",
    "    try: \n",
    "        eleman = int(eleman) # Eğer hata ile karşılaşırsak burası hata verecek ve print çalışmayacak.\n",
    "        print(eleman)\n",
    "    except:\n",
    "        pass # pass deyimi bir blokun hiçbir şey yapmadığı anlamına geliyor. Python'ın hata vermemesi için kullanabilirsiniz."
   ]
  },
  {
   "cell_type": "code",
   "execution_count": 29,
   "id": "98365d56",
   "metadata": {},
   "outputs": [
    {
     "name": "stdout",
     "output_type": "stream",
     "text": [
      "34\n",
      "2\n",
      "100\n",
      "1800\n"
     ]
    }
   ],
   "source": [
    "def çift_mi(sayı):\n",
    "    \n",
    "    if (sayı % 2 == 0):\n",
    "        return sayı\n",
    "    else:\n",
    "        raise ValueError\n",
    "liste = [34,2,1,3,33,100,61,1800]\n",
    "\n",
    "for i in liste:\n",
    "    try:\n",
    "        print(çift_mi(i))\n",
    "    except ValueError:\n",
    "        pass"
   ]
  },
  {
   "cell_type": "code",
   "execution_count": null,
   "id": "b78e54e7",
   "metadata": {},
   "outputs": [],
   "source": []
  }
 ],
 "metadata": {
  "kernelspec": {
   "display_name": "Python 3 (ipykernel)",
   "language": "python",
   "name": "python3"
  },
  "language_info": {
   "codemirror_mode": {
    "name": "ipython",
    "version": 3
   },
   "file_extension": ".py",
   "mimetype": "text/x-python",
   "name": "python",
   "nbconvert_exporter": "python",
   "pygments_lexer": "ipython3",
   "version": "3.9.7"
  }
 },
 "nbformat": 4,
 "nbformat_minor": 5
}
