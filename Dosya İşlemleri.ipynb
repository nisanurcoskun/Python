{
 "cells": [
  {
   "cell_type": "markdown",
   "id": "38be948b",
   "metadata": {},
   "source": [
    "# Dosya İşlemleri\n",
    "\n",
    "## Open()\n",
    "\n",
    "Bir dosyayı açmak için open() yapısı kullanılır.\n",
    "    open(\"DosyaAdı\",\"DosyaErişmeKipi\")\n",
    "    \n",
    "\"w\" açmak ve  yazmak için. eğer o dosya yoksa oluşturur. o dosya varsa silip tekrar oluşturur. \n",
    "\n",
    "dizin belirtmezsek bulunduğumuz klasöre açar.\n",
    "\n",
    "    open(\"dizin/DosyaAdı\",\"kip\")"
   ]
  },
  {
   "cell_type": "markdown",
   "id": "4b10e294",
   "metadata": {},
   "source": [
    "## Close()\n",
    "\n",
    "Dosyayı kullandıktan sonra geri kapatmamız gerekir.\n",
    "    DosyaAdı.close()\n",
    "    \n",
    "Dosyanın içine yazılan herbir karakter 1 byte yer kaplar"
   ]
  },
  {
   "cell_type": "code",
   "execution_count": 1,
   "id": "3b54acc8",
   "metadata": {},
   "outputs": [
    {
     "data": {
      "text/plain": [
       "<_io.TextIOWrapper name='bilgiler.txt' mode='w' encoding='cp1254'>"
      ]
     },
     "execution_count": 1,
     "metadata": {},
     "output_type": "execute_result"
    }
   ],
   "source": [
    "open(\"bilgiler.txt\",\"w\")"
   ]
  },
  {
   "cell_type": "markdown",
   "id": "d6e3f082",
   "metadata": {},
   "source": [
    "desktop/Python klasöründe bu dosya oluşmuş oldu"
   ]
  },
  {
   "cell_type": "code",
   "execution_count": 2,
   "id": "8074d378",
   "metadata": {},
   "outputs": [],
   "source": [
    "file=open(\"bilgiler.txt\",\"w\")"
   ]
  },
  {
   "cell_type": "code",
   "execution_count": 3,
   "id": "00a860bd",
   "metadata": {},
   "outputs": [],
   "source": [
    "file.close()"
   ]
  },
  {
   "cell_type": "code",
   "execution_count": 5,
   "id": "bd5a5073",
   "metadata": {},
   "outputs": [],
   "source": [
    "file=open(\"C:/Users/ncoskun/Desktop/deneme.txt\",\"w\")"
   ]
  },
  {
   "cell_type": "code",
   "execution_count": 7,
   "id": "57b4082f",
   "metadata": {},
   "outputs": [
    {
     "data": {
      "text/plain": [
       "14"
      ]
     },
     "execution_count": 7,
     "metadata": {},
     "output_type": "execute_result"
    }
   ],
   "source": [
    "file.write(\"nisanur coskun\") #output olarak dosyanın byteını verir"
   ]
  },
  {
   "cell_type": "markdown",
   "id": "2b693d10",
   "metadata": {},
   "source": [
    "Dosyanın içine Türkçe karakter girebilmek için: \n",
    "\n",
    "    open(\"bilgiler.txt\",\"w\",encoding=\"utf-8\") \n",
    "   "
   ]
  },
  {
   "cell_type": "markdown",
   "id": "4fb6e5ee",
   "metadata": {},
   "source": [
    " ## Dosyalara yazma\n",
    " \n",
    " \"a\" kipi kullanılır (append) yoksa dosya oluşturur varsa dosyaya ekleme yapar.\n",
    " \n",
    "     file=open(\"C:/Users/ncoskun/Desktop/deneme.txt\",\"a\")\n",
    "     \n",
    "  burdaki file değişeni imleç gibi düşünülebilir."
   ]
  },
  {
   "cell_type": "code",
   "execution_count": 8,
   "id": "a197d8d2",
   "metadata": {},
   "outputs": [],
   "source": [
    "file.close()"
   ]
  },
  {
   "cell_type": "code",
   "execution_count": 10,
   "id": "44439b68",
   "metadata": {},
   "outputs": [],
   "source": [
    "file=open(\"C:/Users/ncoskun/Desktop/deneme.txt\",\"w\")"
   ]
  },
  {
   "cell_type": "code",
   "execution_count": 11,
   "id": "4cfd5889",
   "metadata": {},
   "outputs": [
    {
     "data": {
      "text/plain": [
       "7"
      ]
     },
     "execution_count": 11,
     "metadata": {},
     "output_type": "execute_result"
    }
   ],
   "source": [
    "file.write(\"nisanur\")"
   ]
  },
  {
   "cell_type": "code",
   "execution_count": 13,
   "id": "9836be73",
   "metadata": {},
   "outputs": [],
   "source": [
    "file.close()"
   ]
  },
  {
   "cell_type": "code",
   "execution_count": 14,
   "id": "a4c1748f",
   "metadata": {},
   "outputs": [],
   "source": [
    "file=open(\"C:/Users/ncoskun/Desktop/deneme.txt\",\"a\")"
   ]
  },
  {
   "cell_type": "code",
   "execution_count": 15,
   "id": "11e1c431",
   "metadata": {},
   "outputs": [
    {
     "data": {
      "text/plain": [
       "6"
      ]
     },
     "execution_count": 15,
     "metadata": {},
     "output_type": "execute_result"
    }
   ],
   "source": [
    "file.write(\"coskun\")"
   ]
  },
  {
   "cell_type": "code",
   "execution_count": 16,
   "id": "249495d0",
   "metadata": {},
   "outputs": [],
   "source": [
    " file.close()"
   ]
  },
  {
   "cell_type": "code",
   "execution_count": 17,
   "id": "6389a235",
   "metadata": {},
   "outputs": [],
   "source": [
    "file=open(\"C:/Users/ncoskun/Desktop/deneme.txt\",\"a\")"
   ]
  },
  {
   "cell_type": "code",
   "execution_count": 18,
   "id": "bb23fa57",
   "metadata": {},
   "outputs": [
    {
     "data": {
      "text/plain": [
       "5"
      ]
     },
     "execution_count": 18,
     "metadata": {},
     "output_type": "execute_result"
    }
   ],
   "source": [
    "file.write(\"\\nOguz\")"
   ]
  },
  {
   "cell_type": "code",
   "execution_count": 19,
   "id": "9d90efca",
   "metadata": {},
   "outputs": [],
   "source": [
    "file.close()"
   ]
  },
  {
   "cell_type": "markdown",
   "id": "002f6a20",
   "metadata": {},
   "source": [
    "## Dosya Okuma\n",
    "\n",
    "\"r\" kipi ile okunur. Eğer o dosya yoksa \"\"FileNotFoundError\" döner. "
   ]
  },
  {
   "cell_type": "code",
   "execution_count": 1,
   "id": "adf9e887",
   "metadata": {},
   "outputs": [
    {
     "ename": "FileNotFoundError",
     "evalue": "[Errno 2] No such file or directory: 'C:/Users/ncoskun/deneme.txt'",
     "output_type": "error",
     "traceback": [
      "\u001b[1;31m---------------------------------------------------------------------------\u001b[0m",
      "\u001b[1;31mFileNotFoundError\u001b[0m                         Traceback (most recent call last)",
      "\u001b[1;32m~\\AppData\\Local\\Temp/ipykernel_24120/2955468947.py\u001b[0m in \u001b[0;36m<module>\u001b[1;34m\u001b[0m\n\u001b[1;32m----> 1\u001b[1;33m \u001b[0mfile\u001b[0m\u001b[1;33m=\u001b[0m\u001b[0mopen\u001b[0m\u001b[1;33m(\u001b[0m\u001b[1;34m\"C:/Users/ncoskun/deneme.txt\"\u001b[0m\u001b[1;33m,\u001b[0m\u001b[1;34m\"r\"\u001b[0m\u001b[1;33m)\u001b[0m\u001b[1;33m\u001b[0m\u001b[1;33m\u001b[0m\u001b[0m\n\u001b[0m",
      "\u001b[1;31mFileNotFoundError\u001b[0m: [Errno 2] No such file or directory: 'C:/Users/ncoskun/deneme.txt'"
     ]
    }
   ],
   "source": [
    "file=open(\"C:/Users/ncoskun/deneme.txt\",\"r\")"
   ]
  },
  {
   "cell_type": "code",
   "execution_count": 5,
   "id": "1ac5b737",
   "metadata": {},
   "outputs": [
    {
     "name": "stdout",
     "output_type": "stream",
     "text": [
      "nisanurcoskun\n",
      "\n",
      "Oguz\n"
     ]
    }
   ],
   "source": [
    "file=open(\"C:/Users/ncoskun/Desktop/deneme.txt\",\"r\")\n",
    "\n",
    "for i in file:\n",
    "    print(i)\n",
    "file.close()"
   ]
  },
  {
   "cell_type": "markdown",
   "id": "797cc877",
   "metadata": {},
   "source": [
    "## Read() \n",
    "İçine bir şey girilmezse tüm dosyayı okur. Girilirse o kadar byte okur. "
   ]
  },
  {
   "cell_type": "code",
   "execution_count": 6,
   "id": "00c6c3b2",
   "metadata": {},
   "outputs": [
    {
     "name": "stdout",
     "output_type": "stream",
     "text": [
      "nisanurcoskun\n",
      "Oguz\n"
     ]
    }
   ],
   "source": [
    "file=open(\"C:/Users/ncoskun/Desktop/deneme.txt\",\"r\")\n",
    "icerik=file.read()\n",
    "print(icerik)"
   ]
  },
  {
   "cell_type": "code",
   "execution_count": 7,
   "id": "ae3d9edf",
   "metadata": {},
   "outputs": [],
   "source": [
    "file.close()"
   ]
  },
  {
   "cell_type": "markdown",
   "id": "f7fed885",
   "metadata": {},
   "source": [
    "## Readline()\n",
    "\n",
    "readline() fonksiyonu her çağrıldığında dosyanın sadece bir satırını okur. Her seferinde dosya imlecimiz (file) bir satır atlayarak devam eder.\n",
    "\n",
    "## Readlines()\n",
    "\n",
    "readlines() fonksiyonu dosyanın bütün satırları bir liste şeklinde döner.\n"
   ]
  },
  {
   "cell_type": "code",
   "execution_count": 8,
   "id": "9e1f4e25",
   "metadata": {},
   "outputs": [],
   "source": [
    "file=open(\"C:/Users/ncoskun/Desktop/deneme.txt\",\"r\")"
   ]
  },
  {
   "cell_type": "code",
   "execution_count": 9,
   "id": "e2e97e07",
   "metadata": {},
   "outputs": [
    {
     "name": "stdout",
     "output_type": "stream",
     "text": [
      "nisanurcoskun\n",
      "\n"
     ]
    }
   ],
   "source": [
    "print(file.readline())"
   ]
  },
  {
   "cell_type": "code",
   "execution_count": 10,
   "id": "bffa9bc0",
   "metadata": {},
   "outputs": [
    {
     "name": "stdout",
     "output_type": "stream",
     "text": [
      "Oguz\n"
     ]
    }
   ],
   "source": [
    "print(file.readline())"
   ]
  },
  {
   "cell_type": "code",
   "execution_count": 11,
   "id": "2f1b1b5e",
   "metadata": {},
   "outputs": [],
   "source": [
    "file.close()"
   ]
  },
  {
   "cell_type": "code",
   "execution_count": 12,
   "id": "946345ec",
   "metadata": {},
   "outputs": [
    {
     "data": {
      "text/plain": [
       "['nisanurcoskun\\n', 'Oguz']"
      ]
     },
     "execution_count": 12,
     "metadata": {},
     "output_type": "execute_result"
    }
   ],
   "source": [
    "file=open(\"C:/Users/ncoskun/Desktop/deneme.txt\",\"r\")\n",
    "file.readlines()"
   ]
  },
  {
   "cell_type": "code",
   "execution_count": 13,
   "id": "0d926e65",
   "metadata": {},
   "outputs": [],
   "source": [
    "file.close()"
   ]
  },
  {
   "cell_type": "markdown",
   "id": "063ea0da",
   "metadata": {},
   "source": [
    "Dosyaları kapatmayı unutursak diye with open yapısını kullanabiliriz.\n",
    "\n",
    "    with open(dosyaadı,kip) as file:\n",
    "        dosya işlemleri\n",
    "        "
   ]
  },
  {
   "cell_type": "code",
   "execution_count": 15,
   "id": "2cffd5c6",
   "metadata": {},
   "outputs": [
    {
     "name": "stdout",
     "output_type": "stream",
     "text": [
      "nisanurcoskun\n",
      "\n",
      "Oguz\n"
     ]
    }
   ],
   "source": [
    "with open(\"C:/Users/ncoskun/Desktop/deneme.txt\",\"r\") as file:\n",
    "    for i in file:\n",
    "        print(i)\n"
   ]
  },
  {
   "cell_type": "markdown",
   "id": "7d208f99",
   "metadata": {},
   "source": [
    "Dsoya imlecinin (file değişkeni) yerini değiştirmek için önce \"tell()\" fonksiyonuyla imlecin nerde (hangi byteta) olduğunu görürüz sonra \"seek()\" fonksiyonuyla istediğimiz yere götürürüz."
   ]
  },
  {
   "cell_type": "code",
   "execution_count": 16,
   "id": "24a52e5b",
   "metadata": {},
   "outputs": [
    {
     "name": "stdout",
     "output_type": "stream",
     "text": [
      "0\n"
     ]
    }
   ],
   "source": [
    "with open(\"C:/Users/ncoskun/Desktop/deneme.txt\",\"r\") as file:\n",
    "    print(file.tell())"
   ]
  },
  {
   "cell_type": "code",
   "execution_count": 17,
   "id": "180eeb02",
   "metadata": {},
   "outputs": [
    {
     "name": "stdout",
     "output_type": "stream",
     "text": [
      "nisanurcoskun\n",
      "\n",
      "15\n"
     ]
    }
   ],
   "source": [
    "with open(\"C:/Users/ncoskun/Desktop/deneme.txt\",\"r\") as file:\n",
    "    print(file.readline())\n",
    "    print(file.tell())"
   ]
  },
  {
   "cell_type": "code",
   "execution_count": 19,
   "id": "8b20dc91",
   "metadata": {},
   "outputs": [
    {
     "name": "stdout",
     "output_type": "stream",
     "text": [
      "10\n",
      "kun\n",
      "\n",
      "Oguz\n"
     ]
    }
   ],
   "source": [
    "with open(\"C:/Users/ncoskun/Desktop/deneme.txt\",\"r\") as file:\n",
    "    file.seek(10)\n",
    "    print(file.tell())\n",
    "    for i in file:\n",
    "        print(i)"
   ]
  },
  {
   "cell_type": "markdown",
   "id": "99b07db9",
   "metadata": {},
   "source": [
    "## Dosyalarda değişiklik yapma\n",
    "\n",
    "    seek() ile bi yere gidip sonra write() kullanırsak o yerden sonraki yere istediğimizi yazabiliriz.\n",
    "    \n",
    "    Bunun için ilk olarak hem okuma hem yazma yapabilmemizi sağlayan \"r+\" kipini kullanmalıyız.\n",
    "    "
   ]
  },
  {
   "cell_type": "code",
   "execution_count": 21,
   "id": "3738060f",
   "metadata": {},
   "outputs": [],
   "source": [
    "with open(\"C:/Users/ncoskun/Desktop/deneme.txt\",\"r+\") as file:\n",
    "    file.seek(15)\n",
    "    file.write(\"ebide\")"
   ]
  },
  {
   "cell_type": "code",
   "execution_count": 22,
   "id": "928a3e50",
   "metadata": {},
   "outputs": [
    {
     "name": "stdout",
     "output_type": "stream",
     "text": [
      "nisanurcoskun\n",
      "ebide\n"
     ]
    }
   ],
   "source": [
    "with open(\"C:/Users/ncoskun/Desktop/deneme.txt\",\"r+\") as file:    \n",
    "    print(file.read())"
   ]
  },
  {
   "cell_type": "markdown",
   "id": "d3a317dc",
   "metadata": {},
   "source": [
    "## Dosya sonuna değişiklik yapmak\n",
    "    Dosya \"a\" kipiyle açılır böylece imleç sona gider. sonra write() ile ekleme yapılır."
   ]
  },
  {
   "cell_type": "code",
   "execution_count": 23,
   "id": "681a9abb",
   "metadata": {},
   "outputs": [],
   "source": [
    "with open(\"C:/Users/ncoskun/Desktop/deneme.txt\",\"a\") as file:\n",
    "    file.write(\"oguz\")"
   ]
  },
  {
   "cell_type": "code",
   "execution_count": 24,
   "id": "281ae374",
   "metadata": {},
   "outputs": [
    {
     "name": "stdout",
     "output_type": "stream",
     "text": [
      "nisanurcoskun\n",
      "ebideoguz\n"
     ]
    }
   ],
   "source": [
    "with open(\"C:/Users/ncoskun/Desktop/deneme.txt\",\"r+\") as file:    \n",
    "    print(file.read())"
   ]
  },
  {
   "cell_type": "code",
   "execution_count": null,
   "id": "52e0ae96",
   "metadata": {},
   "outputs": [],
   "source": []
  },
  {
   "cell_type": "markdown",
   "id": "39d79233",
   "metadata": {},
   "source": [
    "## Dosya başına değişiklik yapmak\n",
    "    Dosyayı alıp string haline getirip isediğimiz satırı stringin başına elemeliyiz."
   ]
  },
  {
   "cell_type": "code",
   "execution_count": 27,
   "id": "19898178",
   "metadata": {},
   "outputs": [
    {
     "name": "stdout",
     "output_type": "stream",
     "text": [
      "aysenur coskun\n",
      "aysenur coskun\n",
      "aysenur coskun\n",
      "nisanurcoskun\n",
      "ebideoguz\n"
     ]
    }
   ],
   "source": [
    "with open(\"C:/Users/ncoskun/Desktop/deneme.txt\",\"r+\") as file: \n",
    "    icerik=file.read()\n",
    "    icerik = \"aysenur coskun\\n\" + icerik\n",
    "    file.seek(0)\n",
    "    file.write(icerik)\n",
    "    file.seek(0)\n",
    "    print(file.read())"
   ]
  }
 ],
 "metadata": {
  "kernelspec": {
   "display_name": "Python 3 (ipykernel)",
   "language": "python",
   "name": "python3"
  },
  "language_info": {
   "codemirror_mode": {
    "name": "ipython",
    "version": 3
   },
   "file_extension": ".py",
   "mimetype": "text/x-python",
   "name": "python",
   "nbconvert_exporter": "python",
   "pygments_lexer": "ipython3",
   "version": "3.9.7"
  }
 },
 "nbformat": 4,
 "nbformat_minor": 5
}
