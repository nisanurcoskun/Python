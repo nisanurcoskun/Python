{
 "cells": [
  {
   "cell_type": "markdown",
   "id": "0cccb922",
   "metadata": {},
   "source": [
    "\n",
    "# Classes"
   ]
  },
  {
   "cell_type": "code",
   "execution_count": 1,
   "id": "9c586424",
   "metadata": {},
   "outputs": [],
   "source": [
    "class car():\n",
    "    model=\"Renault\"\n",
    "    colour=\"black\""
   ]
  },
  {
   "cell_type": "code",
   "execution_count": 2,
   "id": "36eb9f36",
   "metadata": {},
   "outputs": [],
   "source": [
    "car1=car()"
   ]
  },
  {
   "cell_type": "code",
   "execution_count": 3,
   "id": "390cddd3",
   "metadata": {},
   "outputs": [
    {
     "data": {
      "text/plain": [
       "<__main__.car at 0x1b738e99160>"
      ]
     },
     "execution_count": 3,
     "metadata": {},
     "output_type": "execute_result"
    }
   ],
   "source": [
    "car1"
   ]
  },
  {
   "cell_type": "code",
   "execution_count": 4,
   "id": "58d52474",
   "metadata": {},
   "outputs": [
    {
     "data": {
      "text/plain": [
       "'Renault'"
      ]
     },
     "execution_count": 4,
     "metadata": {},
     "output_type": "execute_result"
    }
   ],
   "source": [
    "car.model"
   ]
  },
  {
   "cell_type": "code",
   "execution_count": 5,
   "id": "343c86eb",
   "metadata": {},
   "outputs": [
    {
     "data": {
      "text/plain": [
       "'black'"
      ]
     },
     "execution_count": 5,
     "metadata": {},
     "output_type": "execute_result"
    }
   ],
   "source": [
    "car1.colour"
   ]
  },
  {
   "cell_type": "markdown",
   "id": "3a7366f4",
   "metadata": {},
   "source": [
    "Bir sınıfa ait objeler aşağıdaki gibi tanımlanır:\n",
    "\n",
    "        obje_ismi = Sınıf_İsmi(parametreler(opsiyonel))\n",
    "\n",
    "car objesi artık sınıfta tanımladığımız bütün özelliklere (attributes) sahip olmuş oldu. İşte sınıf ve obje üretmek bu şekilde olmaktadır.car objesinin özelliklerinin aşağıdaki gibi görebiliriz\n",
    "\n",
    "        obje_ismi.özellik_ismi\n",
    "\n",
    "objelerin değerlerini oluşturabilmek için kullanılacak method:\n",
    "\n",
    "        __init__() \n",
    "objelerin methodlarını görebilmek için dir(obje) fonksiyonunu kullanırız. bu __init__() methodunu dir(car1) ile görüntüleyebiliriz. Bu metod objelerimiz oluşturulurken otomatik olarak ilk çağrılan fonksiyondur. Bu metodu özel olarak tanımlayarak objelerimizi farklı değerlerle oluşturabiliriz."
   ]
  },
  {
   "cell_type": "code",
   "execution_count": 6,
   "id": "551c0d16",
   "metadata": {},
   "outputs": [
    {
     "data": {
      "text/plain": [
       "['__class__',\n",
       " '__delattr__',\n",
       " '__dict__',\n",
       " '__dir__',\n",
       " '__doc__',\n",
       " '__eq__',\n",
       " '__format__',\n",
       " '__ge__',\n",
       " '__getattribute__',\n",
       " '__gt__',\n",
       " '__hash__',\n",
       " '__init__',\n",
       " '__init_subclass__',\n",
       " '__le__',\n",
       " '__lt__',\n",
       " '__module__',\n",
       " '__ne__',\n",
       " '__new__',\n",
       " '__reduce__',\n",
       " '__reduce_ex__',\n",
       " '__repr__',\n",
       " '__setattr__',\n",
       " '__sizeof__',\n",
       " '__str__',\n",
       " '__subclasshook__',\n",
       " '__weakref__',\n",
       " 'colour',\n",
       " 'model']"
      ]
     },
     "execution_count": 6,
     "metadata": {},
     "output_type": "execute_result"
    }
   ],
   "source": [
    "dir(car1)"
   ]
  },
  {
   "cell_type": "code",
   "execution_count": 7,
   "id": "2767cc33",
   "metadata": {},
   "outputs": [],
   "source": [
    "class car():\n",
    "    def __init__(self,model,colour):\n",
    "        self.model=model\n",
    "        self.colour=colour"
   ]
  },
  {
   "cell_type": "code",
   "execution_count": 8,
   "id": "6d65ec23",
   "metadata": {},
   "outputs": [],
   "source": [
    "car2=car(\"tesla\",\"black\")"
   ]
  },
  {
   "cell_type": "code",
   "execution_count": 9,
   "id": "3dff7ae8",
   "metadata": {},
   "outputs": [
    {
     "data": {
      "text/plain": [
       "'tesla'"
      ]
     },
     "execution_count": 9,
     "metadata": {},
     "output_type": "execute_result"
    }
   ],
   "source": [
    "car2.model"
   ]
  },
  {
   "cell_type": "markdown",
   "id": "152963f0",
   "metadata": {},
   "source": [
    "# Methods"
   ]
  },
  {
   "cell_type": "code",
   "execution_count": 42,
   "id": "7ae06722",
   "metadata": {},
   "outputs": [],
   "source": [
    "class engineer():\n",
    "    def __init__(self,name,number,salary,department):\n",
    "        self.name=name\n",
    "        self.number=number\n",
    "        self.salary=salary\n",
    "        self.department=department\n",
    "    def show_info(self):\n",
    "        print(\"\"\"\n",
    "        Engineer information\n",
    "        Name:{}\n",
    "        Number:{}\n",
    "        Salary:{}\n",
    "        Department:{}\"\"\".format(self.name,self.number,self.salary,self.department))\n",
    "    "
   ]
  },
  {
   "cell_type": "code",
   "execution_count": 43,
   "id": "fbf8ef76",
   "metadata": {},
   "outputs": [],
   "source": [
    "programmer1=engineer(\"Nisanur Coskun\", \"48\" ,\"2000\",\"Embedded Software\")"
   ]
  },
  {
   "cell_type": "code",
   "execution_count": 44,
   "id": "27c6c918",
   "metadata": {},
   "outputs": [
    {
     "name": "stdout",
     "output_type": "stream",
     "text": [
      "\n",
      "        Engineer information\n",
      "        Name:Nisanur Coskun\n",
      "        Number:48\n",
      "        Salary:2000\n",
      "        Department:Embedded Software\n"
     ]
    }
   ],
   "source": [
    "programmer1.show_info()"
   ]
  },
  {
   "cell_type": "markdown",
   "id": "c9cff0f0",
   "metadata": {},
   "source": [
    "# Inheritance\n",
    "\n",
    "kalıtım-miras alma\n",
    "Bir sınıfın başka bir sınıfın özelliklerini (attribute) ve methodlarını almasıdır.\n",
    "class tanımlarken parantezin içine attributeunu alacağımız class yazılır"
   ]
  },
  {
   "cell_type": "code",
   "execution_count": 36,
   "id": "40d655cb",
   "metadata": {},
   "outputs": [],
   "source": [
    "  class manager(programmer):\n",
    "    pass\n"
   ]
  },
  {
   "cell_type": "markdown",
   "id": "674461b2",
   "metadata": {},
   "source": [
    "pass yazmazsak hata veriyor pass yazıp özellikleri daha sonra belirteceğiz demiş olduk."
   ]
  },
  {
   "cell_type": "code",
   "execution_count": 37,
   "id": "1e8db0a6",
   "metadata": {},
   "outputs": [
    {
     "data": {
      "text/plain": [
       "['__class__',\n",
       " '__delattr__',\n",
       " '__dict__',\n",
       " '__dir__',\n",
       " '__doc__',\n",
       " '__eq__',\n",
       " '__format__',\n",
       " '__ge__',\n",
       " '__getattribute__',\n",
       " '__gt__',\n",
       " '__hash__',\n",
       " '__init__',\n",
       " '__init_subclass__',\n",
       " '__le__',\n",
       " '__lt__',\n",
       " '__module__',\n",
       " '__ne__',\n",
       " '__new__',\n",
       " '__reduce__',\n",
       " '__reduce_ex__',\n",
       " '__repr__',\n",
       " '__setattr__',\n",
       " '__sizeof__',\n",
       " '__str__',\n",
       " '__subclasshook__',\n",
       " '__weakref__',\n",
       " 'show_info']"
      ]
     },
     "execution_count": 37,
     "metadata": {},
     "output_type": "execute_result"
    }
   ],
   "source": [
    "dir(manager)"
   ]
  },
  {
   "cell_type": "markdown",
   "id": "a4aa6442",
   "metadata": {},
   "source": [
    "Göründüğü gibi show info methodu direkt olarak eklenmiş oldu."
   ]
  },
  {
   "cell_type": "code",
   "execution_count": 45,
   "id": "46aab2ce",
   "metadata": {},
   "outputs": [],
   "source": [
    " class manager(engineer):\n",
    "        def interest(self,interestamount):\n",
    "            self.salary+=interestamount"
   ]
  },
  {
   "cell_type": "code",
   "execution_count": 49,
   "id": "7e92432a",
   "metadata": {},
   "outputs": [],
   "source": [
    "manager1=manager(\"Enes\",\"5\",int(\"7000\"),\"Packaging\")"
   ]
  },
  {
   "cell_type": "code",
   "execution_count": 50,
   "id": "dbd84109",
   "metadata": {},
   "outputs": [
    {
     "name": "stdout",
     "output_type": "stream",
     "text": [
      "\n",
      "        Engineer information\n",
      "        Name:Enes\n",
      "        Number:5\n",
      "        Salary:7000\n",
      "        Department:Packaging\n"
     ]
    }
   ],
   "source": [
    "manager1.show_info()"
   ]
  },
  {
   "cell_type": "code",
   "execution_count": 62,
   "id": "8055e3cb",
   "metadata": {},
   "outputs": [],
   "source": [
    "manager1.interest(3000)"
   ]
  },
  {
   "cell_type": "code",
   "execution_count": 63,
   "id": "398dfdfb",
   "metadata": {},
   "outputs": [
    {
     "data": {
      "text/plain": [
       "10000"
      ]
     },
     "execution_count": 63,
     "metadata": {},
     "output_type": "execute_result"
    }
   ],
   "source": [
    "manager1.salary"
   ]
  },
  {
   "cell_type": "markdown",
   "id": "e2bace03",
   "metadata": {},
   "source": [
    "# Special Methods\n",
    "Bizim özel olarak çağırmadığımız amaher classa ait methodlarıdr. Çoğu biz tanımlamasak da Python tarafından varsayılan olarak tanımlanır ancak bazılarını bizim tanımlamamız gerekir. __init__ bunlara örnektir. "
   ]
  },
  {
   "cell_type": "code",
   "execution_count": 64,
   "id": "db44380a",
   "metadata": {},
   "outputs": [],
   "source": [
    "del manager1"
   ]
  },
  {
   "cell_type": "code",
   "execution_count": 65,
   "id": "242233b6",
   "metadata": {},
   "outputs": [],
   "source": [
    "class book():\n",
    "    pass"
   ]
  },
  {
   "cell_type": "code",
   "execution_count": 66,
   "id": "106c1a26",
   "metadata": {},
   "outputs": [],
   "source": [
    "book1=book()"
   ]
  },
  {
   "cell_type": "code",
   "execution_count": 67,
   "id": "6392d4aa",
   "metadata": {},
   "outputs": [
    {
     "ename": "SyntaxError",
     "evalue": "invalid syntax (Temp/ipykernel_24080/3367548234.py, line 1)",
     "output_type": "error",
     "traceback": [
      "\u001b[1;36m  File \u001b[1;32m\"C:\\Users\\ncoskun\\AppData\\Local\\Temp/ipykernel_24080/3367548234.py\"\u001b[1;36m, line \u001b[1;32m1\u001b[0m\n\u001b[1;33m    len book1\u001b[0m\n\u001b[1;37m        ^\u001b[0m\n\u001b[1;31mSyntaxError\u001b[0m\u001b[1;31m:\u001b[0m invalid syntax\n"
     ]
    }
   ],
   "source": [
    "len book1"
   ]
  },
  {
   "cell_type": "markdown",
   "id": "c881fd42",
   "metadata": {},
   "source": [
    "Göründüğü gibi bu methodu kullanamadık bu yüzden tanımlamamız gerekir. Önce silelim"
   ]
  },
  {
   "cell_type": "code",
   "execution_count": 80,
   "id": "1269cfdc",
   "metadata": {},
   "outputs": [],
   "source": [
    "class book():\n",
    "    def __init__(self, name, autor,page_num):\n",
    "        print(\"init fonk\")\n",
    "        self.name=name\n",
    "        self.autor=autor\n",
    "        self.page_num=page_num"
   ]
  },
  {
   "cell_type": "code",
   "execution_count": 83,
   "id": "cdfca309",
   "metadata": {},
   "outputs": [
    {
     "name": "stdout",
     "output_type": "stream",
     "text": [
      "init fonk\n"
     ]
    }
   ],
   "source": [
    "book1=book(\"x\",\"y\",45)"
   ]
  },
  {
   "cell_type": "code",
   "execution_count": 84,
   "id": "1383cc51",
   "metadata": {},
   "outputs": [],
   "source": [
    "class book():\n",
    "    def __init__(self, name, autor,page_num):\n",
    "        print(\"init fonk\")\n",
    "        self.name=name\n",
    "        self.autor=autor\n",
    "        self.page_num=page_num\n",
    "    def __str__(self):\n",
    "        return \" name:{}\\n autor:{}\\n page_num:{}\".format(self.name,self.autor,self.page_num)"
   ]
  },
  {
   "cell_type": "code",
   "execution_count": 85,
   "id": "559ff37a",
   "metadata": {},
   "outputs": [
    {
     "name": "stdout",
     "output_type": "stream",
     "text": [
      "init fonk\n"
     ]
    }
   ],
   "source": [
    "book1=book(\"x\",\"y\",45)"
   ]
  },
  {
   "cell_type": "code",
   "execution_count": 86,
   "id": "f21ac182",
   "metadata": {},
   "outputs": [
    {
     "name": "stdout",
     "output_type": "stream",
     "text": [
      "<class '__main__.book'>\n"
     ]
    }
   ],
   "source": [
    "print(book)"
   ]
  },
  {
   "cell_type": "code",
   "execution_count": 87,
   "id": "a2a2dc5a",
   "metadata": {},
   "outputs": [
    {
     "name": "stdout",
     "output_type": "stream",
     "text": [
      " name:x\n",
      " autor:y\n",
      " page_num:45\n"
     ]
    }
   ],
   "source": [
    "print(book1)"
   ]
  },
  {
   "cell_type": "code",
   "execution_count": 88,
   "id": "eb952c52",
   "metadata": {},
   "outputs": [],
   "source": [
    "class book():\n",
    "    def __init__(self, name, autor,page_num):\n",
    "        print(\"init fonk\")\n",
    "        self.name=name\n",
    "        self.autor=autor\n",
    "        self.page_num=page_num\n",
    "    def __str__(self):\n",
    "        return \" name:{}\\n autor:{}\\n page_num:{}\".format(self.name,self.autor,self.page_num)\n",
    "    def __len__(self):\n",
    "        return self.page_num"
   ]
  },
  {
   "cell_type": "code",
   "execution_count": 89,
   "id": "0588b550",
   "metadata": {},
   "outputs": [
    {
     "name": "stdout",
     "output_type": "stream",
     "text": [
      "init fonk\n"
     ]
    }
   ],
   "source": [
    "book1=book(\"x\",\"y\",45)"
   ]
  },
  {
   "cell_type": "code",
   "execution_count": 90,
   "id": "c445050f",
   "metadata": {},
   "outputs": [
    {
     "data": {
      "text/plain": [
       "45"
      ]
     },
     "execution_count": 90,
     "metadata": {},
     "output_type": "execute_result"
    }
   ],
   "source": [
    "len(book1)"
   ]
  },
  {
   "cell_type": "code",
   "execution_count": null,
   "id": "58515b27",
   "metadata": {},
   "outputs": [],
   "source": []
  }
 ],
 "metadata": {
  "kernelspec": {
   "display_name": "Python 3 (ipykernel)",
   "language": "python",
   "name": "python3"
  },
  "language_info": {
   "codemirror_mode": {
    "name": "ipython",
    "version": 3
   },
   "file_extension": ".py",
   "mimetype": "text/x-python",
   "name": "python",
   "nbconvert_exporter": "python",
   "pygments_lexer": "ipython3",
   "version": "3.9.7"
  }
 },
 "nbformat": 4,
 "nbformat_minor": 5
}
